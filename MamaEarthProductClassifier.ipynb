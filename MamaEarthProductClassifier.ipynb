{
  "nbformat": 4,
  "nbformat_minor": 0,
  "metadata": {
    "colab": {
      "name": "MamaEarthProductClassifier.ipynb",
      "provenance": [],
      "collapsed_sections": []
    },
    "kernelspec": {
      "name": "python3",
      "display_name": "Python 3"
    },
    "language_info": {
      "name": "python"
    }
  },
  "cells": [
    {
      "cell_type": "code",
      "metadata": {
        "id": "Hq7AcrHZ8v6M"
      },
      "source": [
        "import pandas as pd\n",
        "import numpy as np\n",
        "import matplotlib.pyplot as plt\n",
        "import re\n",
        "%matplotlib inline"
      ],
      "execution_count": 1,
      "outputs": []
    },
    {
      "cell_type": "markdown",
      "metadata": {
        "id": "8VnnfuxM8-g7"
      },
      "source": [
        "Importing ProductClassifier.csv webscraped from the website having ctaegory and ingredients of a particular product"
      ]
    },
    {
      "cell_type": "code",
      "metadata": {
        "colab": {
          "base_uri": "https://localhost:8080/",
          "height": 195
        },
        "id": "OGn8cGmi88lc",
        "outputId": "15dc3017-ba10-42ff-f92a-5526360ba389"
      },
      "source": [
        "df=pd.read_csv('/content/MamaEarthProductClassifier.csv')\n",
        "df.head()"
      ],
      "execution_count": 2,
      "outputs": [
        {
          "output_type": "execute_result",
          "data": {
            "text/html": [
              "<div>\n",
              "<style scoped>\n",
              "    .dataframe tbody tr th:only-of-type {\n",
              "        vertical-align: middle;\n",
              "    }\n",
              "\n",
              "    .dataframe tbody tr th {\n",
              "        vertical-align: top;\n",
              "    }\n",
              "\n",
              "    .dataframe thead th {\n",
              "        text-align: right;\n",
              "    }\n",
              "</style>\n",
              "<table border=\"1\" class=\"dataframe\">\n",
              "  <thead>\n",
              "    <tr style=\"text-align: right;\">\n",
              "      <th></th>\n",
              "      <th>Unnamed: 0</th>\n",
              "      <th>ProductName</th>\n",
              "      <th>Unnamed: 2</th>\n",
              "      <th>Unnamed: 3</th>\n",
              "      <th>Unnamed: 4</th>\n",
              "      <th>Unnamed: 5</th>\n",
              "      <th>Unnamed: 6</th>\n",
              "      <th>Category</th>\n",
              "      <th>Ingredients</th>\n",
              "    </tr>\n",
              "  </thead>\n",
              "  <tbody>\n",
              "    <tr>\n",
              "      <th>0</th>\n",
              "      <td>0</td>\n",
              "      <td>Tea Tree Facewash for acne</td>\n",
              "      <td>NaN</td>\n",
              "      <td>NaN</td>\n",
              "      <td>NaN</td>\n",
              "      <td>NaN</td>\n",
              "      <td>NaN</td>\n",
              "      <td>Face Wash</td>\n",
              "      <td>Neem</td>\n",
              "    </tr>\n",
              "    <tr>\n",
              "      <th>1</th>\n",
              "      <td>1</td>\n",
              "      <td>Anti Hair Fall Kit for complete hair care</td>\n",
              "      <td>NaN</td>\n",
              "      <td>NaN</td>\n",
              "      <td>NaN</td>\n",
              "      <td>NaN</td>\n",
              "      <td>NaN</td>\n",
              "      <td>Hair Combo</td>\n",
              "      <td>Bhringraj Oil</td>\n",
              "    </tr>\n",
              "    <tr>\n",
              "      <th>2</th>\n",
              "      <td>2</td>\n",
              "      <td>Argan Hair Mask with Argan, Avocado Oil, and M...</td>\n",
              "      <td>NaN</td>\n",
              "      <td>NaN</td>\n",
              "      <td>NaN</td>\n",
              "      <td>NaN</td>\n",
              "      <td>NaN</td>\n",
              "      <td>Hair Mask</td>\n",
              "      <td>Argan Oil</td>\n",
              "    </tr>\n",
              "    <tr>\n",
              "      <th>3</th>\n",
              "      <td>3</td>\n",
              "      <td>Ubtan Bamboo Sheet Mask with Turmeric &amp; Saffro...</td>\n",
              "      <td>NaN</td>\n",
              "      <td>NaN</td>\n",
              "      <td>NaN</td>\n",
              "      <td>NaN</td>\n",
              "      <td>NaN</td>\n",
              "      <td>Face Mask</td>\n",
              "      <td>Turmeric</td>\n",
              "    </tr>\n",
              "    <tr>\n",
              "      <th>4</th>\n",
              "      <td>4</td>\n",
              "      <td>Niacinamide Bamboo Sheet Mask with Niacinamide...</td>\n",
              "      <td>NaN</td>\n",
              "      <td>NaN</td>\n",
              "      <td>NaN</td>\n",
              "      <td>NaN</td>\n",
              "      <td>NaN</td>\n",
              "      <td>Face Sheet Mask</td>\n",
              "      <td>Niacinamide</td>\n",
              "    </tr>\n",
              "  </tbody>\n",
              "</table>\n",
              "</div>"
            ],
            "text/plain": [
              "   Unnamed: 0  ...    Ingredients\n",
              "0           0  ...           Neem\n",
              "1           1  ...  Bhringraj Oil\n",
              "2           2  ...      Argan Oil\n",
              "3           3  ...       Turmeric\n",
              "4           4  ...    Niacinamide\n",
              "\n",
              "[5 rows x 9 columns]"
            ]
          },
          "metadata": {
            "tags": []
          },
          "execution_count": 2
        }
      ]
    },
    {
      "cell_type": "code",
      "metadata": {
        "colab": {
          "base_uri": "https://localhost:8080/"
        },
        "id": "JAobznfh9PpR",
        "outputId": "efdd01c2-dbea-4188-b1a7-7cd9872df39b"
      },
      "source": [
        "df.columns"
      ],
      "execution_count": 3,
      "outputs": [
        {
          "output_type": "execute_result",
          "data": {
            "text/plain": [
              "Index(['Unnamed: 0', 'ProductName', 'Unnamed: 2', 'Unnamed: 3', 'Unnamed: 4',\n",
              "       'Unnamed: 5', 'Unnamed: 6', 'Category', 'Ingredients'],\n",
              "      dtype='object')"
            ]
          },
          "metadata": {
            "tags": []
          },
          "execution_count": 3
        }
      ]
    },
    {
      "cell_type": "code",
      "metadata": {
        "id": "DZKZHFmG9YBB"
      },
      "source": [
        "df.drop(['Unnamed: 0','Unnamed: 2', 'Unnamed: 3', 'Unnamed: 4',\n",
        "       'Unnamed: 5', 'Unnamed: 6'],axis=1,inplace=True)"
      ],
      "execution_count": 4,
      "outputs": []
    },
    {
      "cell_type": "code",
      "metadata": {
        "colab": {
          "base_uri": "https://localhost:8080/",
          "height": 195
        },
        "id": "Do2AtIEj9e_g",
        "outputId": "1c0cf008-26a6-4136-9654-f89eb19a1b82"
      },
      "source": [
        "df.head()"
      ],
      "execution_count": 5,
      "outputs": [
        {
          "output_type": "execute_result",
          "data": {
            "text/html": [
              "<div>\n",
              "<style scoped>\n",
              "    .dataframe tbody tr th:only-of-type {\n",
              "        vertical-align: middle;\n",
              "    }\n",
              "\n",
              "    .dataframe tbody tr th {\n",
              "        vertical-align: top;\n",
              "    }\n",
              "\n",
              "    .dataframe thead th {\n",
              "        text-align: right;\n",
              "    }\n",
              "</style>\n",
              "<table border=\"1\" class=\"dataframe\">\n",
              "  <thead>\n",
              "    <tr style=\"text-align: right;\">\n",
              "      <th></th>\n",
              "      <th>ProductName</th>\n",
              "      <th>Category</th>\n",
              "      <th>Ingredients</th>\n",
              "    </tr>\n",
              "  </thead>\n",
              "  <tbody>\n",
              "    <tr>\n",
              "      <th>0</th>\n",
              "      <td>Tea Tree Facewash for acne</td>\n",
              "      <td>Face Wash</td>\n",
              "      <td>Neem</td>\n",
              "    </tr>\n",
              "    <tr>\n",
              "      <th>1</th>\n",
              "      <td>Anti Hair Fall Kit for complete hair care</td>\n",
              "      <td>Hair Combo</td>\n",
              "      <td>Bhringraj Oil</td>\n",
              "    </tr>\n",
              "    <tr>\n",
              "      <th>2</th>\n",
              "      <td>Argan Hair Mask with Argan, Avocado Oil, and M...</td>\n",
              "      <td>Hair Mask</td>\n",
              "      <td>Argan Oil</td>\n",
              "    </tr>\n",
              "    <tr>\n",
              "      <th>3</th>\n",
              "      <td>Ubtan Bamboo Sheet Mask with Turmeric &amp; Saffro...</td>\n",
              "      <td>Face Mask</td>\n",
              "      <td>Turmeric</td>\n",
              "    </tr>\n",
              "    <tr>\n",
              "      <th>4</th>\n",
              "      <td>Niacinamide Bamboo Sheet Mask with Niacinamide...</td>\n",
              "      <td>Face Sheet Mask</td>\n",
              "      <td>Niacinamide</td>\n",
              "    </tr>\n",
              "  </tbody>\n",
              "</table>\n",
              "</div>"
            ],
            "text/plain": [
              "                                         ProductName  ...    Ingredients\n",
              "0                         Tea Tree Facewash for acne  ...           Neem\n",
              "1          Anti Hair Fall Kit for complete hair care  ...  Bhringraj Oil\n",
              "2  Argan Hair Mask with Argan, Avocado Oil, and M...  ...      Argan Oil\n",
              "3  Ubtan Bamboo Sheet Mask with Turmeric & Saffro...  ...       Turmeric\n",
              "4  Niacinamide Bamboo Sheet Mask with Niacinamide...  ...    Niacinamide\n",
              "\n",
              "[5 rows x 3 columns]"
            ]
          },
          "metadata": {
            "tags": []
          },
          "execution_count": 5
        }
      ]
    },
    {
      "cell_type": "markdown",
      "metadata": {
        "id": "bLN1tIy69u_Y"
      },
      "source": [
        "### 1. Classifying Categories "
      ]
    },
    {
      "cell_type": "markdown",
      "metadata": {
        "id": "OeIF17RuF8cB"
      },
      "source": [
        "Dropping Ingredients column and doing pre-processing"
      ]
    },
    {
      "cell_type": "code",
      "metadata": {
        "id": "jgyuHmOV9530"
      },
      "source": [
        "df1=df.drop(['Ingredients'],axis=1)"
      ],
      "execution_count": 6,
      "outputs": []
    },
    {
      "cell_type": "code",
      "metadata": {
        "colab": {
          "base_uri": "https://localhost:8080/",
          "height": 195
        },
        "id": "7grR6L7hEnFk",
        "outputId": "9019054f-e0e6-40c4-c93a-7e9ec37ee6d4"
      },
      "source": [
        "df1.head()"
      ],
      "execution_count": 7,
      "outputs": [
        {
          "output_type": "execute_result",
          "data": {
            "text/html": [
              "<div>\n",
              "<style scoped>\n",
              "    .dataframe tbody tr th:only-of-type {\n",
              "        vertical-align: middle;\n",
              "    }\n",
              "\n",
              "    .dataframe tbody tr th {\n",
              "        vertical-align: top;\n",
              "    }\n",
              "\n",
              "    .dataframe thead th {\n",
              "        text-align: right;\n",
              "    }\n",
              "</style>\n",
              "<table border=\"1\" class=\"dataframe\">\n",
              "  <thead>\n",
              "    <tr style=\"text-align: right;\">\n",
              "      <th></th>\n",
              "      <th>ProductName</th>\n",
              "      <th>Category</th>\n",
              "    </tr>\n",
              "  </thead>\n",
              "  <tbody>\n",
              "    <tr>\n",
              "      <th>0</th>\n",
              "      <td>Tea Tree Facewash for acne</td>\n",
              "      <td>Face Wash</td>\n",
              "    </tr>\n",
              "    <tr>\n",
              "      <th>1</th>\n",
              "      <td>Anti Hair Fall Kit for complete hair care</td>\n",
              "      <td>Hair Combo</td>\n",
              "    </tr>\n",
              "    <tr>\n",
              "      <th>2</th>\n",
              "      <td>Argan Hair Mask with Argan, Avocado Oil, and M...</td>\n",
              "      <td>Hair Mask</td>\n",
              "    </tr>\n",
              "    <tr>\n",
              "      <th>3</th>\n",
              "      <td>Ubtan Bamboo Sheet Mask with Turmeric &amp; Saffro...</td>\n",
              "      <td>Face Mask</td>\n",
              "    </tr>\n",
              "    <tr>\n",
              "      <th>4</th>\n",
              "      <td>Niacinamide Bamboo Sheet Mask with Niacinamide...</td>\n",
              "      <td>Face Sheet Mask</td>\n",
              "    </tr>\n",
              "  </tbody>\n",
              "</table>\n",
              "</div>"
            ],
            "text/plain": [
              "                                         ProductName         Category\n",
              "0                         Tea Tree Facewash for acne        Face Wash\n",
              "1          Anti Hair Fall Kit for complete hair care       Hair Combo\n",
              "2  Argan Hair Mask with Argan, Avocado Oil, and M...        Hair Mask\n",
              "3  Ubtan Bamboo Sheet Mask with Turmeric & Saffro...        Face Mask\n",
              "4  Niacinamide Bamboo Sheet Mask with Niacinamide...  Face Sheet Mask"
            ]
          },
          "metadata": {
            "tags": []
          },
          "execution_count": 7
        }
      ]
    },
    {
      "cell_type": "code",
      "metadata": {
        "colab": {
          "base_uri": "https://localhost:8080/"
        },
        "id": "G99CNL1L9lVU",
        "outputId": "acfa9a0d-544c-46d0-da14-50eb913935b3"
      },
      "source": [
        "df1['Category'].unique()"
      ],
      "execution_count": 8,
      "outputs": [
        {
          "output_type": "execute_result",
          "data": {
            "text/plain": [
              "array(['Face Wash', 'Hair Combo', 'Hair Mask', 'Face Mask',\n",
              "       'Face Sheet Mask', 'Hair Serum', 'Hair Oil', 'Shampoo',\n",
              "       'Face Combo', 'Body Lotion', 'Face Cream', 'Face Scrub',\n",
              "       'Face Toner', 'Hair Gel', 'Face Serum', 'Conditioner',\n",
              "       'Skin Combo', 'Body Wash', 'Face Gel', 'Body Scrub', 'Sanitizer'],\n",
              "      dtype=object)"
            ]
          },
          "metadata": {
            "tags": []
          },
          "execution_count": 8
        }
      ]
    },
    {
      "cell_type": "code",
      "metadata": {
        "colab": {
          "base_uri": "https://localhost:8080/"
        },
        "id": "cbxdac84-Dbo",
        "outputId": "283a4c29-6cfc-4e49-c267-0be8c8d53ba1"
      },
      "source": [
        "import nltk\n",
        "nltk.download('stopwords')"
      ],
      "execution_count": 9,
      "outputs": [
        {
          "output_type": "stream",
          "text": [
            "[nltk_data] Downloading package stopwords to /root/nltk_data...\n",
            "[nltk_data]   Package stopwords is already up-to-date!\n"
          ],
          "name": "stdout"
        },
        {
          "output_type": "execute_result",
          "data": {
            "text/plain": [
              "True"
            ]
          },
          "metadata": {
            "tags": []
          },
          "execution_count": 9
        }
      ]
    },
    {
      "cell_type": "code",
      "metadata": {
        "id": "cuqI9JrX-8Eo"
      },
      "source": [
        "from nltk.corpus import stopwords\n",
        "from nltk.stem.porter import PorterStemmer\n",
        "from sklearn.model_selection import train_test_split\n",
        "from sklearn.feature_extraction.text import TfidfTransformer\n",
        "from sklearn.feature_extraction.text import CountVectorizer"
      ],
      "execution_count": 10,
      "outputs": []
    },
    {
      "cell_type": "code",
      "metadata": {
        "id": "QEa6dM-7_HjY"
      },
      "source": [
        "def product_name_cleaned(sample):\n",
        "  # replacing everything with \" \" except alphabets\n",
        "  sample=re.sub(pattern='[^a-zA-Z]',repl=' ',string=sample)\n",
        "  # converting to lowercase\n",
        "  sample=sample.lower()\n",
        "  # splitting into a list of words\n",
        "  sample_words=sample.split()\n",
        "  # every word in list is accepted except stopwords\n",
        "  sample_words=[word for word in sample_words if not word in set(stopwords.words('english'))]\n",
        "  # stemming to root word\n",
        "  result=[PorterStemmer().stem(word) for word in sample_words ]\n",
        "  # creating a new string\n",
        "  result=' '.join(result)\n",
        "  return result"
      ],
      "execution_count": 11,
      "outputs": []
    },
    {
      "cell_type": "code",
      "metadata": {
        "colab": {
          "base_uri": "https://localhost:8080/",
          "height": 35
        },
        "id": "8kPuMXEs_UCZ",
        "outputId": "041697ac-00a3-45e5-8e1d-8b97d30a64c6"
      },
      "source": [
        "product_name_cleaned(df['ProductName'][0])"
      ],
      "execution_count": 12,
      "outputs": [
        {
          "output_type": "execute_result",
          "data": {
            "application/vnd.google.colaboratory.intrinsic+json": {
              "type": "string"
            },
            "text/plain": [
              "'tea tree facewash acn'"
            ]
          },
          "metadata": {
            "tags": []
          },
          "execution_count": 12
        }
      ]
    },
    {
      "cell_type": "code",
      "metadata": {
        "id": "uJgDQuCrBm8p"
      },
      "source": [
        "# Applying our function to whole dataset\n",
        "df1['ProductName'] = df1['ProductName'].apply(product_name_cleaned)"
      ],
      "execution_count": 13,
      "outputs": []
    },
    {
      "cell_type": "code",
      "metadata": {
        "id": "jXZdXkhD_dl5"
      },
      "source": [
        "# Creating features and labels\n",
        "x=df1.ProductName\n",
        "y=df1.Category\n",
        "x_train,x_test,y_train,y_test=train_test_split(x,y,test_size=0.2)"
      ],
      "execution_count": 14,
      "outputs": []
    },
    {
      "cell_type": "code",
      "metadata": {
        "colab": {
          "base_uri": "https://localhost:8080/"
        },
        "id": "Vg8cseHNAnd-",
        "outputId": "8847cb06-2a2d-4385-cfb8-89a164599490"
      },
      "source": [
        "# Using Multinomial NaiveBayesClassifier using Pipeline\n",
        "from sklearn.naive_bayes import MultinomialNB\n",
        "from sklearn.pipeline import Pipeline\n",
        "nbc = Pipeline([('vectorized', CountVectorizer()),\n",
        "                ('tfidf', TfidfTransformer()),\n",
        "                ('classifier', MultinomialNB()),\n",
        "               ])\n",
        "nbc.fit(x_train, y_train)"
      ],
      "execution_count": 15,
      "outputs": [
        {
          "output_type": "execute_result",
          "data": {
            "text/plain": [
              "Pipeline(memory=None,\n",
              "         steps=[('vectorized',\n",
              "                 CountVectorizer(analyzer='word', binary=False,\n",
              "                                 decode_error='strict',\n",
              "                                 dtype=<class 'numpy.int64'>, encoding='utf-8',\n",
              "                                 input='content', lowercase=True, max_df=1.0,\n",
              "                                 max_features=None, min_df=1,\n",
              "                                 ngram_range=(1, 1), preprocessor=None,\n",
              "                                 stop_words=None, strip_accents=None,\n",
              "                                 token_pattern='(?u)\\\\b\\\\w\\\\w+\\\\b',\n",
              "                                 tokenizer=None, vocabulary=None)),\n",
              "                ('tfidf',\n",
              "                 TfidfTransformer(norm='l2', smooth_idf=True,\n",
              "                                  sublinear_tf=False, use_idf=True)),\n",
              "                ('classifier',\n",
              "                 MultinomialNB(alpha=1.0, class_prior=None, fit_prior=True))],\n",
              "         verbose=False)"
            ]
          },
          "metadata": {
            "tags": []
          },
          "execution_count": 15
        }
      ]
    },
    {
      "cell_type": "code",
      "metadata": {
        "colab": {
          "base_uri": "https://localhost:8080/"
        },
        "id": "GJ-Q-K6SA_G7",
        "outputId": "4b4616d2-afd9-463c-c315-c6b2151b90a2"
      },
      "source": [
        "# Evaluating Model\n",
        "from sklearn.metrics import classification_report, confusion_matrix\n",
        "pred = nbc.predict(x_test)\n",
        "print(classification_report(y_test,pred))"
      ],
      "execution_count": 16,
      "outputs": [
        {
          "output_type": "stream",
          "text": [
            "                 precision    recall  f1-score   support\n",
            "\n",
            "    Body Lotion       1.00      1.00      1.00         2\n",
            "     Body Scrub       0.00      0.00      0.00         1\n",
            "      Body Wash       0.00      0.00      0.00         1\n",
            "    Conditioner       0.00      0.00      0.00         1\n",
            "     Face Combo       0.00      0.00      0.00         1\n",
            "     Face Cream       1.00      0.20      0.33         5\n",
            "      Face Mask       0.33      0.33      0.33         3\n",
            "     Face Scrub       0.00      0.00      0.00         3\n",
            "     Face Serum       0.00      0.00      0.00         1\n",
            "Face Sheet Mask       1.00      0.50      0.67         2\n",
            "     Face Toner       0.00      0.00      0.00         2\n",
            "      Face Wash       0.18      1.00      0.30         3\n",
            "     Hair Combo       0.36      1.00      0.53         4\n",
            "      Hair Mask       0.00      0.00      0.00         2\n",
            "       Hair Oil       0.00      0.00      0.00         3\n",
            "     Hair Serum       0.00      0.00      0.00         2\n",
            "        Shampoo       0.33      1.00      0.50         1\n",
            "     Skin Combo       0.67      0.50      0.57         4\n",
            "\n",
            "       accuracy                           0.37        41\n",
            "      macro avg       0.27      0.31      0.24        41\n",
            "   weighted avg       0.37      0.37      0.29        41\n",
            "\n"
          ],
          "name": "stdout"
        },
        {
          "output_type": "stream",
          "text": [
            "/usr/local/lib/python3.7/dist-packages/sklearn/metrics/_classification.py:1272: UndefinedMetricWarning: Precision and F-score are ill-defined and being set to 0.0 in labels with no predicted samples. Use `zero_division` parameter to control this behavior.\n",
            "  _warn_prf(average, modifier, msg_start, len(result))\n"
          ],
          "name": "stderr"
        }
      ]
    },
    {
      "cell_type": "code",
      "metadata": {
        "colab": {
          "base_uri": "https://localhost:8080/"
        },
        "id": "HQ-BSTcTCZ0T",
        "outputId": "9696b506-1fb1-4e7a-cbfd-c5eec6ad6af0"
      },
      "source": [
        "# Testing input\n",
        "test_product=['Onion Shampoo for Hair Growth & Hair Fall Control']\n",
        "nbc.predict(test_product)"
      ],
      "execution_count": 17,
      "outputs": [
        {
          "output_type": "execute_result",
          "data": {
            "text/plain": [
              "array(['Shampoo'], dtype='<U15')"
            ]
          },
          "metadata": {
            "tags": []
          },
          "execution_count": 17
        }
      ]
    },
    {
      "cell_type": "markdown",
      "metadata": {
        "id": "ZOBop5BGDzcp"
      },
      "source": [
        "### 2. Classifying Ingredients"
      ]
    },
    {
      "cell_type": "markdown",
      "metadata": {
        "id": "jKt5nGCCEwye"
      },
      "source": [
        "We will be using the same dataset as above but will drop  Ctaregories column this time and do pre-processing"
      ]
    },
    {
      "cell_type": "code",
      "metadata": {
        "id": "gmqpRK1mEbcF"
      },
      "source": [
        "df2=df.drop(['Category'],axis=1)"
      ],
      "execution_count": 18,
      "outputs": []
    },
    {
      "cell_type": "code",
      "metadata": {
        "colab": {
          "base_uri": "https://localhost:8080/",
          "height": 195
        },
        "id": "jwHea2PAEjZK",
        "outputId": "78eea7cd-605a-469a-c3aa-2bf3d53cee1b"
      },
      "source": [
        "df2.head()"
      ],
      "execution_count": 19,
      "outputs": [
        {
          "output_type": "execute_result",
          "data": {
            "text/html": [
              "<div>\n",
              "<style scoped>\n",
              "    .dataframe tbody tr th:only-of-type {\n",
              "        vertical-align: middle;\n",
              "    }\n",
              "\n",
              "    .dataframe tbody tr th {\n",
              "        vertical-align: top;\n",
              "    }\n",
              "\n",
              "    .dataframe thead th {\n",
              "        text-align: right;\n",
              "    }\n",
              "</style>\n",
              "<table border=\"1\" class=\"dataframe\">\n",
              "  <thead>\n",
              "    <tr style=\"text-align: right;\">\n",
              "      <th></th>\n",
              "      <th>ProductName</th>\n",
              "      <th>Ingredients</th>\n",
              "    </tr>\n",
              "  </thead>\n",
              "  <tbody>\n",
              "    <tr>\n",
              "      <th>0</th>\n",
              "      <td>Tea Tree Facewash for acne</td>\n",
              "      <td>Neem</td>\n",
              "    </tr>\n",
              "    <tr>\n",
              "      <th>1</th>\n",
              "      <td>Anti Hair Fall Kit for complete hair care</td>\n",
              "      <td>Bhringraj Oil</td>\n",
              "    </tr>\n",
              "    <tr>\n",
              "      <th>2</th>\n",
              "      <td>Argan Hair Mask with Argan, Avocado Oil, and M...</td>\n",
              "      <td>Argan Oil</td>\n",
              "    </tr>\n",
              "    <tr>\n",
              "      <th>3</th>\n",
              "      <td>Ubtan Bamboo Sheet Mask with Turmeric &amp; Saffro...</td>\n",
              "      <td>Turmeric</td>\n",
              "    </tr>\n",
              "    <tr>\n",
              "      <th>4</th>\n",
              "      <td>Niacinamide Bamboo Sheet Mask with Niacinamide...</td>\n",
              "      <td>Niacinamide</td>\n",
              "    </tr>\n",
              "  </tbody>\n",
              "</table>\n",
              "</div>"
            ],
            "text/plain": [
              "                                         ProductName    Ingredients\n",
              "0                         Tea Tree Facewash for acne           Neem\n",
              "1          Anti Hair Fall Kit for complete hair care  Bhringraj Oil\n",
              "2  Argan Hair Mask with Argan, Avocado Oil, and M...      Argan Oil\n",
              "3  Ubtan Bamboo Sheet Mask with Turmeric & Saffro...       Turmeric\n",
              "4  Niacinamide Bamboo Sheet Mask with Niacinamide...    Niacinamide"
            ]
          },
          "metadata": {
            "tags": []
          },
          "execution_count": 19
        }
      ]
    },
    {
      "cell_type": "code",
      "metadata": {
        "id": "4bCNmFa3EPvJ"
      },
      "source": [
        "# Creating features and labels\n",
        "x=df2.ProductName\n",
        "y=df2.Ingredients\n",
        "x_train,x_test,y_train,y_test=train_test_split(x,y,test_size=0.2)"
      ],
      "execution_count": 20,
      "outputs": []
    },
    {
      "cell_type": "code",
      "metadata": {
        "id": "pd9FDOCbHKfC"
      },
      "source": [
        "# Applying our function to whole dataset\n",
        "df2['ProductName'] = df2['ProductName'].apply(product_name_cleaned)"
      ],
      "execution_count": 24,
      "outputs": []
    },
    {
      "cell_type": "code",
      "metadata": {
        "colab": {
          "base_uri": "https://localhost:8080/"
        },
        "id": "ZP5NzPh_E-Iy",
        "outputId": "3bea2a00-7646-45a5-ee8d-b0c8aac52a0b"
      },
      "source": [
        "# Using Multinomial NaiveBayesClassifier using Pipeline\n",
        "from sklearn.naive_bayes import MultinomialNB\n",
        "from sklearn.pipeline import Pipeline\n",
        "nbc = Pipeline([('vectorized', CountVectorizer()),\n",
        "                ('tfidf', TfidfTransformer()),\n",
        "                ('classifier', MultinomialNB()),\n",
        "               ])\n",
        "nbc.fit(x_train, y_train)"
      ],
      "execution_count": 25,
      "outputs": [
        {
          "output_type": "execute_result",
          "data": {
            "text/plain": [
              "Pipeline(memory=None,\n",
              "         steps=[('vectorized',\n",
              "                 CountVectorizer(analyzer='word', binary=False,\n",
              "                                 decode_error='strict',\n",
              "                                 dtype=<class 'numpy.int64'>, encoding='utf-8',\n",
              "                                 input='content', lowercase=True, max_df=1.0,\n",
              "                                 max_features=None, min_df=1,\n",
              "                                 ngram_range=(1, 1), preprocessor=None,\n",
              "                                 stop_words=None, strip_accents=None,\n",
              "                                 token_pattern='(?u)\\\\b\\\\w\\\\w+\\\\b',\n",
              "                                 tokenizer=None, vocabulary=None)),\n",
              "                ('tfidf',\n",
              "                 TfidfTransformer(norm='l2', smooth_idf=True,\n",
              "                                  sublinear_tf=False, use_idf=True)),\n",
              "                ('classifier',\n",
              "                 MultinomialNB(alpha=1.0, class_prior=None, fit_prior=True))],\n",
              "         verbose=False)"
            ]
          },
          "metadata": {
            "tags": []
          },
          "execution_count": 25
        }
      ]
    },
    {
      "cell_type": "code",
      "metadata": {
        "colab": {
          "base_uri": "https://localhost:8080/"
        },
        "id": "xi41I9n1FS7w",
        "outputId": "f7847b49-66e3-48e6-fa94-bdaf251a80d9"
      },
      "source": [
        "# Evaluating Model\n",
        "from sklearn.metrics import classification_report, confusion_matrix\n",
        "pred = nbc.predict(x_test)\n",
        "print(classification_report(y_test,pred))"
      ],
      "execution_count": 26,
      "outputs": [
        {
          "output_type": "stream",
          "text": [
            "                precision    recall  f1-score   support\n",
            "\n",
            "     Aloe Vera       0.00      0.00      0.00         1\n",
            "     Argan Oil       1.00      1.00      1.00         1\n",
            " Bhringraj Oil       1.00      1.00      1.00         1\n",
            "      Charcoal       0.00      0.00      0.00         1\n",
            "        Coffee       1.00      1.00      1.00         2\n",
            "          Neem       0.00      0.00      0.00         2\n",
            "   Niacinamide       0.00      0.00      0.00         1\n",
            "     Onion Oil       0.00      0.00      0.00         1\n",
            "Onion Seed Oil       0.50      1.00      0.67         4\n",
            "     Red Onion       0.00      0.00      0.00         3\n",
            "       Retinol       0.00      0.00      0.00         1\n",
            "    Rose Water       0.00      0.00      0.00         1\n",
            "       Saffron       0.00      0.00      0.00         1\n",
            "  Tea Tree Oil       1.00      0.20      0.33         5\n",
            "      Turmeric       0.43      0.60      0.50         5\n",
            "     Vitamin C       0.43      1.00      0.60         9\n",
            "  Walnut Beads       0.00      0.00      0.00         2\n",
            "\n",
            "      accuracy                           0.51        41\n",
            "     macro avg       0.32      0.34      0.30        41\n",
            "  weighted avg       0.41      0.51      0.40        41\n",
            "\n"
          ],
          "name": "stdout"
        },
        {
          "output_type": "stream",
          "text": [
            "/usr/local/lib/python3.7/dist-packages/sklearn/metrics/_classification.py:1272: UndefinedMetricWarning: Precision and F-score are ill-defined and being set to 0.0 in labels with no predicted samples. Use `zero_division` parameter to control this behavior.\n",
            "  _warn_prf(average, modifier, msg_start, len(result))\n"
          ],
          "name": "stderr"
        }
      ]
    },
    {
      "cell_type": "code",
      "metadata": {
        "colab": {
          "base_uri": "https://localhost:8080/"
        },
        "id": "XLsPsb65FWio",
        "outputId": "d4e1a582-9592-4edb-9125-81067c6fec96"
      },
      "source": [
        "# Testing input\n",
        "test_product=['Onion Shampoo for Hair Growth & Hair Fall Control']\n",
        "nbc.predict(test_product)"
      ],
      "execution_count": 27,
      "outputs": [
        {
          "output_type": "execute_result",
          "data": {
            "text/plain": [
              "array(['Onion Seed Oil'], dtype='<U20')"
            ]
          },
          "metadata": {
            "tags": []
          },
          "execution_count": 27
        }
      ]
    },
    {
      "cell_type": "code",
      "metadata": {
        "id": "GcTL8pIHFdVZ"
      },
      "source": [
        ""
      ],
      "execution_count": null,
      "outputs": []
    }
  ]
}